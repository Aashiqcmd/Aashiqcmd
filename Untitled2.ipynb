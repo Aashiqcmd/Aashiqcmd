{
  "nbformat": 4,
  "nbformat_minor": 0,
  "metadata": {
    "colab": {
      "name": "Untitled2.ipynb",
      "provenance": [],
      "authorship_tag": "ABX9TyOvUpsWZ//8hTaFDyfDyboz",
      "include_colab_link": true
    },
    "kernelspec": {
      "name": "python3",
      "display_name": "Python 3"
    },
    "language_info": {
      "name": "python"
    }
  },
  "cells": [
    {
      "cell_type": "markdown",
      "metadata": {
        "id": "view-in-github",
        "colab_type": "text"
      },
      "source": [
        "<a href=\"https://colab.research.google.com/github/Aashiqcmd/Aashiqcmd/blob/main/Untitled2.ipynb\" target=\"_parent\"><img src=\"https://colab.research.google.com/assets/colab-badge.svg\" alt=\"Open In Colab\"/></a>"
      ]
    },
    {
      "cell_type": "code",
      "execution_count": null,
      "metadata": {
        "colab": {
          "base_uri": "https://localhost:8080/"
        },
        "id": "C8mqu9um6zEY",
        "outputId": "63eb0155-753a-4d2a-89be-0f87e86e819b"
      },
      "outputs": [
        {
          "output_type": "stream",
          "name": "stdout",
          "text": [
            "the sum of 1.5 and 6.3 is 7.8\n"
          ]
        }
      ],
      "source": [
        "num1=1.5\n",
        "num2=6.3\n",
        "sum=num1+num2\n",
        "print('the sum of {0} and {1} is {2}'.format(num1,num2,sum))"
      ]
    },
    {
      "cell_type": "code",
      "source": [
        "num1 =input('enter first number:')\n",
        "num2 =input('enter second number:')\n",
        "sum= float(num1) + float(num2)\n",
        "print('the sum of {0} and {1} is {2}'.format(num1,num2,sum))"
      ],
      "metadata": {
        "colab": {
          "base_uri": "https://localhost:8080/"
        },
        "id": "U_6PsGnm9VI7",
        "outputId": "1a8c4e39-d7ff-43d3-cc3a-0e1f3413e28f"
      },
      "execution_count": null,
      "outputs": [
        {
          "output_type": "stream",
          "name": "stdout",
          "text": [
            "enter first number:1.5\n",
            "enter second number:6.3\n",
            "the sum of 1.5 and 6.3 is 7.8\n"
          ]
        }
      ]
    },
    {
      "cell_type": "code",
      "source": [
        "num=8\n",
        "num_sqrt = num ** 0.5\n",
        "print('the square root of %0.3f is %0.3f'%(num,num_sqrt))"
      ],
      "metadata": {
        "colab": {
          "base_uri": "https://localhost:8080/"
        },
        "id": "y8sqPVRH_AoI",
        "outputId": "053827dd-e195-431f-a9bc-4c0fc6cab7fc"
      },
      "execution_count": null,
      "outputs": [
        {
          "output_type": "stream",
          "name": "stdout",
          "text": [
            "the square root of 8.000 is 2.828\n"
          ]
        }
      ]
    },
    {
      "cell_type": "code",
      "source": [
        "import cmath\n",
        "num =1+2j\n",
        "num_sqrt +cmath.sqrt(num)\n",
        "print('the square root of {0} is {1:0.3f}+{2:0.3f}j'.format(num,num_sqrt.real,num_sqrt.imag))"
      ],
      "metadata": {
        "colab": {
          "base_uri": "https://localhost:8080/"
        },
        "id": "AM_5R4WlAV6A",
        "outputId": "d4f8e157-8cc2-4dce-c038-3fa56ea0a77a"
      },
      "execution_count": null,
      "outputs": [
        {
          "output_type": "stream",
          "name": "stdout",
          "text": [
            "the square root of (1+2j) is 2.828+0.000j\n"
          ]
        }
      ]
    },
    {
      "cell_type": "code",
      "source": [
        "a=5\n",
        "b=6\n",
        "c=7\n",
        "s=(a+b+c)/2\n",
        "area = (s*(s-a)*(s-b)*(s-c))**0.5\n"
      ],
      "metadata": {
        "id": "KqqVfgGaBtlC"
      },
      "execution_count": null,
      "outputs": []
    },
    {
      "cell_type": "code",
      "source": [
        ""
      ],
      "metadata": {
        "id": "VD7upGunHjTq"
      },
      "execution_count": null,
      "outputs": []
    }
  ]
}