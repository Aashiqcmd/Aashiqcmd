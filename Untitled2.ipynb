{
  "cells": [
    {
      "cell_type": "markdown",
      "metadata": {
        "id": "view-in-github",
        "colab_type": "text"
      },
      "source": [
        "<a href=\"https://colab.research.google.com/github/Aashiqcmd/Aashiqcmd/blob/main/Untitled2.ipynb\" target=\"_parent\"><img src=\"https://colab.research.google.com/assets/colab-badge.svg\" alt=\"Open In Colab\"/></a>"
      ]
    },
    {
      "cell_type": "code",
      "execution_count": null,
      "metadata": {
        "colab": {
          "base_uri": "https://localhost:8080/"
        },
        "id": "C8mqu9um6zEY",
        "outputId": "63eb0155-753a-4d2a-89be-0f87e86e819b"
      },
      "outputs": [
        {
          "name": "stdout",
          "output_type": "stream",
          "text": [
            "the sum of 1.5 and 6.3 is 7.8\n"
          ]
        }
      ],
      "source": [
        "num1=1.5\n",
        "num2=6.3\n",
        "sum=num1+num2\n",
        "print('the sum of {0} and {1} is {2}'.format(num1,num2,sum))"
      ]
    },
    {
      "cell_type": "code",
      "execution_count": null,
      "metadata": {
        "colab": {
          "base_uri": "https://localhost:8080/"
        },
        "id": "U_6PsGnm9VI7",
        "outputId": "1a8c4e39-d7ff-43d3-cc3a-0e1f3413e28f"
      },
      "outputs": [
        {
          "name": "stdout",
          "output_type": "stream",
          "text": [
            "enter first number:1.5\n",
            "enter second number:6.3\n",
            "the sum of 1.5 and 6.3 is 7.8\n"
          ]
        }
      ],
      "source": [
        "num1 =input('enter first number:')\n",
        "num2 =input('enter second number:')\n",
        "sum= float(num1) + float(num2)\n",
        "print('the sum of {0} and {1} is {2}'.format(num1,num2,sum))"
      ]
    },
    {
      "cell_type": "code",
      "execution_count": null,
      "metadata": {
        "colab": {
          "base_uri": "https://localhost:8080/"
        },
        "id": "y8sqPVRH_AoI",
        "outputId": "053827dd-e195-431f-a9bc-4c0fc6cab7fc"
      },
      "outputs": [
        {
          "name": "stdout",
          "output_type": "stream",
          "text": [
            "the square root of 8.000 is 2.828\n"
          ]
        }
      ],
      "source": [
        "num=8\n",
        "num_sqrt = num ** 0.5\n",
        "print('the square root of %0.3f is %0.3f'%(num,num_sqrt))"
      ]
    },
    {
      "cell_type": "code",
      "execution_count": null,
      "metadata": {
        "colab": {
          "base_uri": "https://localhost:8080/"
        },
        "id": "AM_5R4WlAV6A",
        "outputId": "d4f8e157-8cc2-4dce-c038-3fa56ea0a77a"
      },
      "outputs": [
        {
          "name": "stdout",
          "output_type": "stream",
          "text": [
            "the square root of (1+2j) is 2.828+0.000j\n"
          ]
        }
      ],
      "source": [
        "import cmath\n",
        "num =1+2j\n",
        "num_sqrt +cmath.sqrt(num)\n",
        "print('the square root of {0} is {1:0.3f}+{2:0.3f}j'.format(num,num_sqrt.real,num_sqrt.imag))"
      ]
    },
    {
      "cell_type": "code",
      "execution_count": null,
      "metadata": {
        "id": "KqqVfgGaBtlC"
      },
      "outputs": [],
      "source": [
        "a=5\n",
        "b=6\n",
        "c=7\n",
        "s=(a+b+c)/2\n",
        "area = (s*(s-a)*(s-b)*(s-c))**0.5\n"
      ]
    },
    {
      "cell_type": "code",
      "execution_count": null,
      "metadata": {
        "colab": {
          "base_uri": "https://localhost:8080/"
        },
        "id": "VD7upGunHjTq",
        "outputId": "046c033a-16aa-499d-9e26-e09ed451b81c"
      },
      "outputs": [
        {
          "name": "stdout",
          "output_type": "stream",
          "text": [
            "the value of x after swapping: 10\n",
            "the value of y after swapping: 5\n"
          ]
        }
      ],
      "source": [
        "x=5\n",
        "y=10\n",
        "temp=x\n",
        "x=y\n",
        "y=temp\n",
        "print('the value of x after swapping: {}'.format(x))\n",
        "print('the value of y after swapping: {}'.format(y))\n"
      ]
    },
    {
      "cell_type": "code",
      "execution_count": null,
      "metadata": {
        "colab": {
          "base_uri": "https://localhost:8080/"
        },
        "id": "V74osPHGUFUB",
        "outputId": "b6ef2787-57a0-4f52-c616-5bf80181eaaf"
      },
      "outputs": [
        {
          "name": "stdout",
          "output_type": "stream",
          "text": [
            "apple.com\n"
          ]
        }
      ],
      "source": [
        "number=10\n",
        "number=1.1\n",
        "website=\"apple.com\"\n",
        "print(website)"
      ]
    },
    {
      "cell_type": "code",
      "execution_count": null,
      "metadata": {
        "colab": {
          "base_uri": "https://localhost:8080/"
        },
        "id": "MrDyTV5hUe4u",
        "outputId": "12c0f993-084f-404c-e119-7f0d1f370682"
      },
      "outputs": [
        {
          "name": "stdout",
          "output_type": "stream",
          "text": [
            "apple.com\n",
            "programiz.com\n"
          ]
        }
      ],
      "source": [
        "website=\"apple.com\"\n",
        "print(website)\n",
        "website=\"programiz.com\"\n",
        "print(website)\n"
      ]
    },
    {
      "cell_type": "code",
      "execution_count": null,
      "metadata": {
        "colab": {
          "base_uri": "https://localhost:8080/"
        },
        "id": "CPvXD3cJW8My",
        "outputId": "4e9dde44-55f8-46b2-fed1-3842f48fe3d9"
      },
      "outputs": [
        {
          "name": "stdout",
          "output_type": "stream",
          "text": [
            "10 100 200 300\n",
            "10.5 150.0\n",
            "3.14j 3.14 0.0\n"
          ]
        }
      ],
      "source": [
        "a=0b1010\n",
        "b=100\n",
        "c=0o310\n",
        "d=0x12c\n",
        "float_1=10.5\n",
        "float_2=1.5e2\n",
        "x=3.14j\n",
        "print(a,b,c,d)\n",
        "print(float_1,float_2)\n",
        "print(x,x.imag,x.real)"
      ]
    },
    {
      "cell_type": "code",
      "execution_count": null,
      "metadata": {
        "colab": {
          "base_uri": "https://localhost:8080/"
        },
        "id": "fPnXmzzgY_6x",
        "outputId": "8b1e542a-40a9-43eb-c646-ef0d39b070b1"
      },
      "outputs": [
        {
          "name": "stdout",
          "output_type": "stream",
          "text": [
            "this is python\n",
            "c\n",
            "this is a multiline string with more than one line code.\n",
            "Ünicöde\n",
            "raw \\n string\n"
          ]
        }
      ],
      "source": [
        "strings=\"this is python\"\n",
        "char=\"c\"\n",
        "multiline_str=\"\"\"this is a multiline string with more than one line code.\"\"\"\n",
        "unicode=u\"\\u00dcnic\\u00f6de\"\n",
        "raw_str=r\"raw \\n string\"\n",
        "print(strings)\n",
        "print(char)\n",
        "print(multiline_str)\n",
        "print(unicode)\n",
        "print(raw_str)"
      ]
    },
    {
      "cell_type": "code",
      "execution_count": 2,
      "metadata": {
        "colab": {
          "base_uri": "https://localhost:8080/"
        },
        "id": "rGxY8GkOa634",
        "outputId": "9fb556c9-67c1-48fe-e60c-4fe3a8ceb27d"
      },
      "outputs": [
        {
          "output_type": "stream",
          "name": "stdout",
          "text": [
            "x is  True\n",
            "y is False\n",
            "a: 5\n",
            "b: 10\n"
          ]
        }
      ],
      "source": [
        "x=(1==True)\n",
        "y=(1==False)\n",
        "a= True + 4\n",
        "b= False + 10\n",
        "print(\"x is \",x)\n",
        "print(\"y is\",y)\n",
        "print(\"a:\",a)\n",
        "print(\"b:\",b)"
      ]
    },
    {
      "cell_type": "code",
      "source": [
        "drink=\"Available\"\n",
        "food=None\n",
        "def menu(x):\n",
        "  if x == drink:\n",
        "    print(drink)\n",
        "  else:\n",
        "    print(food)\n",
        "  menu(drink)\n",
        "  menu(food)\n"
      ],
      "metadata": {
        "id": "RzgpmA2Gxaqd"
      },
      "execution_count": 6,
      "outputs": []
    },
    {
      "cell_type": "code",
      "source": [
        "fruits = [\"apple\",\"mango\",\"orange\"]\n",
        "numbers = (1,2,3)\n",
        "alphabets = {'a':'apple','b':'ball','c':'cat'}\n",
        "vowels = {'a','e','i','o','u'}\n",
        "print(fruits)\n",
        "print(numbers)\n",
        "print(alphabets)\n",
        "print(vowels)\n"
      ],
      "metadata": {
        "colab": {
          "base_uri": "https://localhost:8080/"
        },
        "id": "PF6cfg0yygKH",
        "outputId": "810deebc-e0b7-4ded-c554-e7ac423a7870"
      },
      "execution_count": 7,
      "outputs": [
        {
          "output_type": "stream",
          "name": "stdout",
          "text": [
            "['apple', 'mango', 'orange']\n",
            "(1, 2, 3)\n",
            "{'a': 'apple', 'b': 'ball', 'c': 'cat'}\n",
            "{'i', 'o', 'u', 'a', 'e'}\n"
          ]
        }
      ]
    }
  ],
  "metadata": {
    "colab": {
      "name": "Untitled2.ipynb",
      "provenance": [],
      "authorship_tag": "ABX9TyPFg09tnyB8NEXn0Mku2JxW",
      "include_colab_link": true
    },
    "kernelspec": {
      "display_name": "Python 3",
      "name": "python3"
    },
    "language_info": {
      "name": "python"
    }
  },
  "nbformat": 4,
  "nbformat_minor": 0
}